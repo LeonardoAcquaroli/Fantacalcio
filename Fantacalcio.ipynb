{
 "cells": [
  {
   "cell_type": "code",
   "execution_count": 1,
   "id": "3769a880",
   "metadata": {},
   "outputs": [],
   "source": [
    "# data manipulation\n",
    "from datetime import datetime, timedelta\n",
    "from dateutil.relativedelta import relativedelta\n",
    "import re\n",
    "import numpy as np\n",
    "import pandas as pd\n",
    "import warnings \n",
    "pd.options.mode.chained_assignment = None\n",
    "warnings.filterwarnings('ignore')\n",
    "\n",
    "# files\n",
    "import os\n",
    "import pathlib\n",
    "\n",
    "# plotting\n",
    "import matplotlib.pyplot as plt\n",
    "import matplotlib.patches as patches\n",
    "import matplotlib.dates as mdates\n",
    "import seaborn as sns\n",
    "\n",
    "# web app\n",
    "import streamlit as st\n",
    "\n",
    "####################\n",
    "\n",
    "# Preprocessing\n",
    "from sklearn.preprocessing import StandardScaler\n",
    "from sklearn.model_selection import train_test_split\n",
    "from sklearn.preprocessing import PolynomialFeatures\n",
    "# Clustering\n",
    "from sklearn.decomposition import PCA\n",
    "from sklearn.cluster import KMeans\n",
    "from sklearn.metrics import silhouette_score\n",
    "# Prediction\n",
    "import statsmodels.api as sm\n",
    "from sklearn.metrics import mean_squared_error\n",
    "## models\n",
    "from sklearn.linear_model import LinearRegression # ols\n",
    "import xgboost as xgb\n",
    "from sklearn.tree import DecisionTreeRegressor\n",
    "## evaluation\n",
    "from sklearn.model_selection import cross_val_score, KFold\n",
    "from sklearn.base import BaseEstimator, RegressorMixin"
   ]
  },
  {
   "cell_type": "code",
   "execution_count": 2,
   "metadata": {},
   "outputs": [],
   "source": [
    "# Set the path to the directory containing the Excel files\n",
    "dir_path = r\"C:\\Users\\leoac\\OneDrive - Università degli Studi di Milano\\Data science\\Football\\Fantacalcio\\Dati Fantacalcio.it\\Statistiche\"\n",
    "# Get a list of all the files in the directory\n",
    "file_list = os.listdir(dir_path)\n",
    "# Create a list of dfs\n",
    "df_list = []\n",
    "# Loop through the files and read each one\n",
    "for file_name in file_list:\n",
    "    if file_name.endswith('.xlsx'):  # Check if file is a .xlsx file\n",
    "        file_path = os.path.join(dir_path, file_name)\n",
    "        df = pd.read_excel(file_path, skiprows=1)\n",
    "        df[\"Anno\"] = datetime.strptime(\"20\" + re.findall(\"[0-9]+\", (pd.read_excel(file_path, nrows=1).columns[0]))[1], \"%Y\")\n",
    "        df_list.append(df)\n",
    "data = pd.concat(df_list,axis=0,ignore_index=True)\n",
    "\n",
    "# Change the players' name into the same format\n",
    "data.Nome = data.Nome.apply(lambda x: x.lower().title())\n",
    "\n",
    "# Combine the two different names for games to vote\n",
    "data.Pv = data.Pg.combine_first(data.Pv)\n",
    "data.drop(\"Pg\", axis = \"columns\", inplace=True)\n",
    "# Combine the two different names for Fantamedia\n",
    "data.Mf = data.Mf.combine_first(data.Fm)\n",
    "data.drop(\"Fm\", axis = \"columns\", inplace=True)\n",
    "\n",
    "# Drop the specific role column (Rm)\n",
    "data.drop(\"Rm\", axis = \"columns\", inplace=True)\n",
    "\n",
    "# Reorder and rename columns\n",
    "data = data.reindex(columns=[\"Id\",\"R\",\"Nome\",\"Squadra\",\"Anno\",\"Mv\",\"Mf\",\"Gf\",\"Gs\",\"Rp\",\"Rc\",\"R+\",\"R-\",\"Ass\",\"Amm\",\"Esp\",\"Au\",\"Pv\"])\n",
    "data.columns = [\"Id\",\"R\",\"Nome\",\"Squadra\",\"Anno\",\"Media voto\",\"Media FantaVoto\",\"Gol fatti\",\"Gol subiti\",\"Rigori parati\",\"Rigori calciati\",\"Rigori segnati\",\"Rigori sbagliati\",\"Assist\",\"Ammonizioni\",\"Espulsioni\",\"Autogol\",\"Partite a voto\"]\n",
    "\n",
    "# Add the quotes\n",
    "Qdir_path = r\"C:\\Users\\leoac\\OneDrive - Università degli Studi di Milano\\Data science\\Football\\Fantacalcio\\Dati Fantacalcio.it\\Quote\"\n",
    "Qfile_list = os.listdir(Qdir_path)\n",
    "Qdf_list = []\n",
    "# Loop through the files and read each one\n",
    "c = 0\n",
    "for Qfile_name in Qfile_list:\n",
    "    if Qfile_name .endswith('.xlsx'):  # Check if file is a .xlsx file\n",
    "        Qfile_path = os.path.join(Qdir_path, Qfile_name)\n",
    "        Qdf = pd.read_excel(Qfile_path, skiprows=1)\n",
    "        Qdf[\"Anno\"] = datetime.strptime(\"20\" + re.findall(\"[0-9]+\", (pd.read_excel(Qfile_path, nrows=1).columns[0]))[1], \"%Y\")\n",
    "        Qdf_list.append(Qdf)\n",
    "quotes = pd.concat(Qdf_list,axis=0,ignore_index=True)\n",
    "\n",
    "# Join quotes with data\n",
    "withQuotes = data.merge(quotes, how=\"inner\", on=['Nome', 'Anno'])\n",
    "withQuotes.drop([Qcol for Qcol in withQuotes.columns if Qcol.endswith(\"_y\")], axis=1, inplace=True) # drop duplicates columns from merging\n",
    "# %%\n",
    "withQuotes.columns = ['Id', 'Ruolo', 'Nome', 'Squadra', 'Anno', 'Media voto','Media FantaVoto', 'Gol fatti',\n",
    "                      'Gol subiti', 'Rigori parati','Rigori calciati','Rigori segnati', 'Rigori sbagliati',\n",
    "                      'Assist','Ammonizioni', 'Espulsioni', 'Autogol','Partite a voto', 'RM', 'Quota attuale',\n",
    "                      'Quota iniziale', 'Differenza', 'Qt.A M', 'Qt.I M', 'Diff.M', 'FVM', 'FVM M'] # change columns names\n",
    "withQuotes[\"FantaVoto/Quota iniziale\"] = withQuotes[\"Media FantaVoto\"] / withQuotes[\"Quota iniziale\"]\n",
    "withQuotes[\"Voto/Quota iniziale\"] = withQuotes[\"Media voto\"] / withQuotes[\"Quota iniziale\"]\n",
    "\n",
    "# Clean columns names\n",
    "withQuotes = withQuotes.reindex(columns=['Ruolo', 'Nome', 'Squadra', 'Anno', 'Media voto',\n",
    "       'Media FantaVoto','Quota iniziale',\"FantaVoto/Quota iniziale\",\"Voto/Quota iniziale\",'Gol fatti', 'Gol subiti', 'Rigori parati',\n",
    "       'Rigori calciati', 'Rigori segnati', 'Rigori sbagliati', 'Assist',\n",
    "       'Ammonizioni', 'Espulsioni', 'Autogol', 'Partite a voto',\n",
    "       'Quota attuale', 'Differenza tra quote','Id'])\n",
    "# Crowd Differenza tra quote\n",
    "withQuotes[\"Differenza tra quote\"] = withQuotes[\"Quota iniziale\"] - withQuotes[\"Quota attuale\"]"
   ]
  },
  {
   "cell_type": "code",
   "execution_count": null,
   "id": "50b7006c",
   "metadata": {},
   "outputs": [],
   "source": [
    "# withQuotes.to_csv(r\"C:\\Users\\leoac\\OneDrive - Università degli Studi di Milano\\Data science\\Football\\Fantacalcio\\Dataframe con quote.csv\")"
   ]
  },
  {
   "cell_type": "code",
   "execution_count": 3,
   "id": "f46e9118",
   "metadata": {},
   "outputs": [
    {
     "data": {
      "text/plain": [
       "1603"
      ]
     },
     "execution_count": 3,
     "metadata": {},
     "output_type": "execute_result"
    }
   ],
   "source": [
    "# Different names = 1604\n",
    "len(withQuotes.Nome.unique())\n",
    "# Different Ids = 1603\n",
    "len(withQuotes.Id.unique())\n",
    "# maybe one name changed during the years so it's better to use Id"
   ]
  },
  {
   "cell_type": "markdown",
   "id": "1e48c082",
   "metadata": {},
   "source": [
    "# Model"
   ]
  },
  {
   "cell_type": "markdown",
   "id": "f8f87bde",
   "metadata": {},
   "source": [
    "Preprocessing"
   ]
  },
  {
   "cell_type": "code",
   "execution_count": 4,
   "id": "b0b9f348",
   "metadata": {},
   "outputs": [],
   "source": [
    "withQuotes_20plus_noGK = withQuotes[(withQuotes[\"Partite a voto\"] > 20) & (withQuotes.Ruolo != \"P\")].reset_index(drop=True)"
   ]
  },
  {
   "cell_type": "code",
   "execution_count": 5,
   "id": "2236464a",
   "metadata": {},
   "outputs": [
    {
     "data": {
      "text/html": [
       "<div>\n",
       "<style scoped>\n",
       "    .dataframe tbody tr th:only-of-type {\n",
       "        vertical-align: middle;\n",
       "    }\n",
       "\n",
       "    .dataframe tbody tr th {\n",
       "        vertical-align: top;\n",
       "    }\n",
       "\n",
       "    .dataframe thead th {\n",
       "        text-align: right;\n",
       "    }\n",
       "</style>\n",
       "<table border=\"1\" class=\"dataframe\">\n",
       "  <thead>\n",
       "    <tr style=\"text-align: right;\">\n",
       "      <th></th>\n",
       "      <th>Ruolo</th>\n",
       "      <th>Media FantaVoto</th>\n",
       "      <th>FantaVoto/Quota iniziale</th>\n",
       "      <th>Gol fatti</th>\n",
       "      <th>Rigori calciati</th>\n",
       "      <th>Rigori segnati</th>\n",
       "      <th>Rigori sbagliati</th>\n",
       "      <th>Assist</th>\n",
       "      <th>Ammonizioni</th>\n",
       "      <th>Espulsioni</th>\n",
       "      <th>Autogol</th>\n",
       "      <th>Partite a voto</th>\n",
       "      <th>Quota attuale</th>\n",
       "      <th>Differenza tra quote</th>\n",
       "      <th>Quota iniziale (t+1)</th>\n",
       "      <th>Media FantaVoto (t+1)</th>\n",
       "    </tr>\n",
       "  </thead>\n",
       "  <tbody>\n",
       "    <tr>\n",
       "      <th>0</th>\n",
       "      <td>D</td>\n",
       "      <td>6.08</td>\n",
       "      <td>0.675556</td>\n",
       "      <td>1</td>\n",
       "      <td>0</td>\n",
       "      <td>0</td>\n",
       "      <td>0</td>\n",
       "      <td>1</td>\n",
       "      <td>7</td>\n",
       "      <td>0</td>\n",
       "      <td>0</td>\n",
       "      <td>27.0</td>\n",
       "      <td>10</td>\n",
       "      <td>-1</td>\n",
       "      <td>9</td>\n",
       "      <td>5.93</td>\n",
       "    </tr>\n",
       "    <tr>\n",
       "      <th>1</th>\n",
       "      <td>D</td>\n",
       "      <td>6.58</td>\n",
       "      <td>0.8225</td>\n",
       "      <td>4</td>\n",
       "      <td>0</td>\n",
       "      <td>0</td>\n",
       "      <td>0</td>\n",
       "      <td>0</td>\n",
       "      <td>3</td>\n",
       "      <td>0</td>\n",
       "      <td>0</td>\n",
       "      <td>36.0</td>\n",
       "      <td>15</td>\n",
       "      <td>-7</td>\n",
       "      <td>13</td>\n",
       "      <td>6.45</td>\n",
       "    </tr>\n",
       "    <tr>\n",
       "      <th>2</th>\n",
       "      <td>D</td>\n",
       "      <td>6.12</td>\n",
       "      <td>0.68</td>\n",
       "      <td>1</td>\n",
       "      <td>0</td>\n",
       "      <td>0</td>\n",
       "      <td>0</td>\n",
       "      <td>1</td>\n",
       "      <td>10</td>\n",
       "      <td>0</td>\n",
       "      <td>0</td>\n",
       "      <td>36.0</td>\n",
       "      <td>10</td>\n",
       "      <td>-1</td>\n",
       "      <td>9</td>\n",
       "      <td>6.06</td>\n",
       "    </tr>\n",
       "    <tr>\n",
       "      <th>3</th>\n",
       "      <td>D</td>\n",
       "      <td>6.76</td>\n",
       "      <td>0.563333</td>\n",
       "      <td>2</td>\n",
       "      <td>0</td>\n",
       "      <td>0</td>\n",
       "      <td>0</td>\n",
       "      <td>3</td>\n",
       "      <td>5</td>\n",
       "      <td>1</td>\n",
       "      <td>0</td>\n",
       "      <td>22.0</td>\n",
       "      <td>11</td>\n",
       "      <td>1</td>\n",
       "      <td>15</td>\n",
       "      <td>6.42</td>\n",
       "    </tr>\n",
       "    <tr>\n",
       "      <th>4</th>\n",
       "      <td>C</td>\n",
       "      <td>6.66</td>\n",
       "      <td>0.512308</td>\n",
       "      <td>3</td>\n",
       "      <td>0</td>\n",
       "      <td>0</td>\n",
       "      <td>0</td>\n",
       "      <td>4</td>\n",
       "      <td>4</td>\n",
       "      <td>0</td>\n",
       "      <td>0</td>\n",
       "      <td>35.0</td>\n",
       "      <td>17</td>\n",
       "      <td>-4</td>\n",
       "      <td>16</td>\n",
       "      <td>6.25</td>\n",
       "    </tr>\n",
       "    <tr>\n",
       "      <th>...</th>\n",
       "      <td>...</td>\n",
       "      <td>...</td>\n",
       "      <td>...</td>\n",
       "      <td>...</td>\n",
       "      <td>...</td>\n",
       "      <td>...</td>\n",
       "      <td>...</td>\n",
       "      <td>...</td>\n",
       "      <td>...</td>\n",
       "      <td>...</td>\n",
       "      <td>...</td>\n",
       "      <td>...</td>\n",
       "      <td>...</td>\n",
       "      <td>...</td>\n",
       "      <td>...</td>\n",
       "      <td>...</td>\n",
       "    </tr>\n",
       "    <tr>\n",
       "      <th>1026</th>\n",
       "      <td>A</td>\n",
       "      <td>6.5</td>\n",
       "      <td>0.928571</td>\n",
       "      <td>7</td>\n",
       "      <td>0</td>\n",
       "      <td>0</td>\n",
       "      <td>0</td>\n",
       "      <td>0</td>\n",
       "      <td>5</td>\n",
       "      <td>1</td>\n",
       "      <td>0</td>\n",
       "      <td>30.0</td>\n",
       "      <td>14</td>\n",
       "      <td>-7</td>\n",
       "      <td>13</td>\n",
       "      <td>6.45</td>\n",
       "    </tr>\n",
       "    <tr>\n",
       "      <th>1027</th>\n",
       "      <td>A</td>\n",
       "      <td>6.25</td>\n",
       "      <td>0.520833</td>\n",
       "      <td>2</td>\n",
       "      <td>0</td>\n",
       "      <td>0</td>\n",
       "      <td>0</td>\n",
       "      <td>3</td>\n",
       "      <td>1</td>\n",
       "      <td>0</td>\n",
       "      <td>0</td>\n",
       "      <td>26.0</td>\n",
       "      <td>11</td>\n",
       "      <td>1</td>\n",
       "      <td>11</td>\n",
       "      <td>5.78</td>\n",
       "    </tr>\n",
       "    <tr>\n",
       "      <th>1028</th>\n",
       "      <td>A</td>\n",
       "      <td>6.27</td>\n",
       "      <td>0.57</td>\n",
       "      <td>3</td>\n",
       "      <td>0</td>\n",
       "      <td>0</td>\n",
       "      <td>0</td>\n",
       "      <td>0</td>\n",
       "      <td>1</td>\n",
       "      <td>0</td>\n",
       "      <td>0</td>\n",
       "      <td>24.0</td>\n",
       "      <td>10</td>\n",
       "      <td>1</td>\n",
       "      <td>9</td>\n",
       "      <td>7.06</td>\n",
       "    </tr>\n",
       "    <tr>\n",
       "      <th>1029</th>\n",
       "      <td>A</td>\n",
       "      <td>6.08</td>\n",
       "      <td>0.467692</td>\n",
       "      <td>6</td>\n",
       "      <td>0</td>\n",
       "      <td>0</td>\n",
       "      <td>0</td>\n",
       "      <td>0</td>\n",
       "      <td>10</td>\n",
       "      <td>0</td>\n",
       "      <td>1</td>\n",
       "      <td>36.0</td>\n",
       "      <td>10</td>\n",
       "      <td>3</td>\n",
       "      <td>10</td>\n",
       "      <td>5.80</td>\n",
       "    </tr>\n",
       "    <tr>\n",
       "      <th>1030</th>\n",
       "      <td>A</td>\n",
       "      <td>6.08</td>\n",
       "      <td>0.506667</td>\n",
       "      <td>2</td>\n",
       "      <td>0</td>\n",
       "      <td>0</td>\n",
       "      <td>0</td>\n",
       "      <td>2</td>\n",
       "      <td>3</td>\n",
       "      <td>0</td>\n",
       "      <td>0</td>\n",
       "      <td>30.0</td>\n",
       "      <td>9</td>\n",
       "      <td>3</td>\n",
       "      <td>8</td>\n",
       "      <td>5.98</td>\n",
       "    </tr>\n",
       "  </tbody>\n",
       "</table>\n",
       "<p>1031 rows × 16 columns</p>\n",
       "</div>"
      ],
      "text/plain": [
       "     Ruolo Media FantaVoto FantaVoto/Quota iniziale Gol fatti Rigori calciati  \\\n",
       "0        D            6.08                 0.675556         1               0   \n",
       "1        D            6.58                   0.8225         4               0   \n",
       "2        D            6.12                     0.68         1               0   \n",
       "3        D            6.76                 0.563333         2               0   \n",
       "4        C            6.66                 0.512308         3               0   \n",
       "...    ...             ...                      ...       ...             ...   \n",
       "1026     A             6.5                 0.928571         7               0   \n",
       "1027     A            6.25                 0.520833         2               0   \n",
       "1028     A            6.27                     0.57         3               0   \n",
       "1029     A            6.08                 0.467692         6               0   \n",
       "1030     A            6.08                 0.506667         2               0   \n",
       "\n",
       "     Rigori segnati Rigori sbagliati Assist Ammonizioni Espulsioni Autogol  \\\n",
       "0                 0                0      1           7          0       0   \n",
       "1                 0                0      0           3          0       0   \n",
       "2                 0                0      1          10          0       0   \n",
       "3                 0                0      3           5          1       0   \n",
       "4                 0                0      4           4          0       0   \n",
       "...             ...              ...    ...         ...        ...     ...   \n",
       "1026              0                0      0           5          1       0   \n",
       "1027              0                0      3           1          0       0   \n",
       "1028              0                0      0           1          0       0   \n",
       "1029              0                0      0          10          0       1   \n",
       "1030              0                0      2           3          0       0   \n",
       "\n",
       "     Partite a voto Quota attuale Differenza tra quote Quota iniziale (t+1)  \\\n",
       "0              27.0            10                   -1                    9   \n",
       "1              36.0            15                   -7                   13   \n",
       "2              36.0            10                   -1                    9   \n",
       "3              22.0            11                    1                   15   \n",
       "4              35.0            17                   -4                   16   \n",
       "...             ...           ...                  ...                  ...   \n",
       "1026           30.0            14                   -7                   13   \n",
       "1027           26.0            11                    1                   11   \n",
       "1028           24.0            10                    1                    9   \n",
       "1029           36.0            10                    3                   10   \n",
       "1030           30.0             9                    3                    8   \n",
       "\n",
       "      Media FantaVoto (t+1)  \n",
       "0                      5.93  \n",
       "1                      6.45  \n",
       "2                      6.06  \n",
       "3                      6.42  \n",
       "4                      6.25  \n",
       "...                     ...  \n",
       "1026                   6.45  \n",
       "1027                   5.78  \n",
       "1028                   7.06  \n",
       "1029                   5.80  \n",
       "1030                   5.98  \n",
       "\n",
       "[1031 rows x 16 columns]"
      ]
     },
     "execution_count": 5,
     "metadata": {},
     "output_type": "execute_result"
    }
   ],
   "source": [
    "# Add the target column \"Media FantaVoto (t+1)\"\n",
    "# 1031 observations\n",
    "prediction_df = pd.DataFrame(columns=['Ruolo', 'Media FantaVoto', 'FantaVoto/Quota iniziale', 'Gol fatti', 'Rigori calciati','Rigori segnati', 'Rigori sbagliati', 'Assist', 'Ammonizioni','Espulsioni', 'Autogol', 'Partite a voto', 'Quota attuale','Differenza tra quote','Quota iniziale (t+1)','Media FantaVoto (t+1)'])\n",
    "for i, record in withQuotes_20plus_noGK.iterrows():\n",
    "    name = record.Nome\n",
    "    year = record.Anno\n",
    "    next_year_row = withQuotes_20plus_noGK[(withQuotes_20plus_noGK.Nome == name) & (withQuotes_20plus_noGK.Anno == year + relativedelta(years=1))]\n",
    "    if len(next_year_row) > 0:\n",
    "        next_year_row = next_year_row.rename(columns={'Quota iniziale': 'Quota iniziale (t+1)', 'Media FantaVoto': 'Media FantaVoto (t+1)'}) # change next year columns names\n",
    "        this_year_columns = ['Ruolo', 'Media FantaVoto', 'FantaVoto/Quota iniziale', 'Gol fatti', 'Rigori calciati','Rigori segnati', 'Rigori sbagliati', 'Assist', 'Ammonizioni','Espulsioni', 'Autogol', 'Partite a voto', 'Quota attuale','Differenza tra quote']\n",
    "        this_year_values = record[this_year_columns].to_frame().T.reset_index(drop=True)\n",
    "        next_year_values = next_year_row[['Quota iniziale (t+1)','Media FantaVoto (t+1)']].reset_index(drop=True)\n",
    "        prediction_row = pd.concat([this_year_values, next_year_values], axis=1)\n",
    "        prediction_df = prediction_df.append(prediction_row, ignore_index=True)\n",
    "prediction_df"
   ]
  },
  {
   "cell_type": "code",
   "execution_count": 6,
   "id": "04ce650e",
   "metadata": {},
   "outputs": [],
   "source": [
    "# one-hot encoding for Ruolo\n",
    "dummies = pd.get_dummies(prediction_df.Ruolo).iloc[:,0:2] # dummies for Attaccante and Centrocampista to avoid dummy trap\n",
    "prediction_df.drop(\"Ruolo\", axis=1, inplace=True)\n",
    "prediction_df = pd.concat([dummies, prediction_df], axis=1)\n",
    "# cast as float\n",
    "prediction_df = prediction_df.astype('float64')"
   ]
  },
  {
   "cell_type": "code",
   "execution_count": 7,
   "id": "750caf9a",
   "metadata": {},
   "outputs": [],
   "source": [
    "# feature augmentation\n",
    "poly = PolynomialFeatures(degree=2, interaction_only=False, include_bias=False) # initiate polinomial transformer\n",
    "X = prediction_df.loc[:, ~prediction_df.columns.isin([\"Media FantaVoto (t+1)\"])]\n",
    "y = prediction_df[\"Media FantaVoto (t+1)\"]\n",
    "X_quad = poly.fit_transform(X) # create all the quadratic interactions\n",
    "X_quad = pd.DataFrame(X_quad, columns=poly.get_feature_names_out(input_features=X.columns)) # Create a new DataFrame with the quadratic interaction features\n",
    "prediction_df = pd.concat((X_quad, y), axis=1)"
   ]
  },
  {
   "cell_type": "code",
   "execution_count": 8,
   "id": "5105277f",
   "metadata": {},
   "outputs": [
    {
     "data": {
      "text/plain": [
       "Index(['A', 'C', 'Media FantaVoto', 'FantaVoto/Quota iniziale', 'Gol fatti',\n",
       "       'Rigori calciati', 'Rigori segnati', 'Rigori sbagliati', 'Assist',\n",
       "       'Ammonizioni', 'Espulsioni', 'Autogol', 'Partite a voto',\n",
       "       'Quota attuale', 'Differenza tra quote', 'Quota iniziale (t+1)'],\n",
       "      dtype='object')"
      ]
     },
     "execution_count": 8,
     "metadata": {},
     "output_type": "execute_result"
    }
   ],
   "source": [
    "prediction_df.columns[0:16] # X without poly expansion"
   ]
  },
  {
   "cell_type": "code",
   "execution_count": 9,
   "id": "75120ec1",
   "metadata": {},
   "outputs": [],
   "source": [
    "X_train, X_test, y_train, y_test = train_test_split(prediction_df.loc[:, ~prediction_df.columns.isin([\"Media FantaVoto (t+1)\"])], prediction_df[\"Media FantaVoto (t+1)\"], test_size=0.3, random_state=20)"
   ]
  },
  {
   "cell_type": "markdown",
   "id": "c2dc9b87",
   "metadata": {},
   "source": [
    "EDA"
   ]
  },
  {
   "cell_type": "code",
   "execution_count": 10,
   "id": "1184a499",
   "metadata": {},
   "outputs": [],
   "source": [
    "# sns.pairplot(pd.concat((X_train, y_train), axis=1))"
   ]
  },
  {
   "cell_type": "markdown",
   "id": "00d7bc05",
   "metadata": {},
   "source": [
    "OLS"
   ]
  },
  {
   "cell_type": "code",
   "execution_count": 11,
   "id": "ade98642",
   "metadata": {},
   "outputs": [],
   "source": [
    "# OLS with statsmodel\n",
    "X_train_for_ols = sm.add_constant(X_train)\n",
    "X_test_for_ols = sm.add_constant(X_test)\n",
    "ols = sm.OLS(y_train, X_train_for_ols)\n",
    "ols_fit = ols.fit()\n",
    "# ols_fit.summary()"
   ]
  },
  {
   "cell_type": "code",
   "execution_count": 12,
   "id": "a691a62a",
   "metadata": {},
   "outputs": [],
   "source": [
    "# OLS with sklearn\n",
    "ols = LinearRegression()\n",
    "ols_fit = ols.fit(X_train, y_train)"
   ]
  },
  {
   "cell_type": "code",
   "execution_count": 13,
   "id": "4ee028e2",
   "metadata": {},
   "outputs": [
    {
     "data": {
      "text/plain": [
       "(0.15123973791142215, 0.2601014234746098)"
      ]
     },
     "execution_count": 13,
     "metadata": {},
     "output_type": "execute_result"
    }
   ],
   "source": [
    "# ols_fit.mse_resid\n",
    "mean_squared_error(y_train, ols_fit.predict(X_train)), mean_squared_error(y_test, ols_fit.predict(X_test))"
   ]
  },
  {
   "cell_type": "markdown",
   "id": "4e440bac",
   "metadata": {},
   "source": [
    "OLS with only significant variables"
   ]
  },
  {
   "cell_type": "code",
   "execution_count": 14,
   "id": "b2ad04fb",
   "metadata": {},
   "outputs": [
    {
     "ename": "AttributeError",
     "evalue": "'LinearRegression' object has no attribute 'pvalues'",
     "output_type": "error",
     "traceback": [
      "\u001b[1;31m---------------------------------------------------------------------------\u001b[0m",
      "\u001b[1;31mAttributeError\u001b[0m                            Traceback (most recent call last)",
      "Cell \u001b[1;32mIn[14], line 1\u001b[0m\n\u001b[1;32m----> 1\u001b[0m p_values \u001b[39m=\u001b[39m ols_fit\u001b[39m.\u001b[39;49mpvalues\n\u001b[0;32m      2\u001b[0m significant_variables \u001b[39m=\u001b[39m p_values[p_values \u001b[39m<\u001b[39m\u001b[39m=\u001b[39m \u001b[39m0.05\u001b[39m]\u001b[39m.\u001b[39mindex\n\u001b[0;32m      3\u001b[0m \u001b[39m# train and test with only significant variables\u001b[39;00m\n",
      "\u001b[1;31mAttributeError\u001b[0m: 'LinearRegression' object has no attribute 'pvalues'"
     ]
    }
   ],
   "source": [
    "p_values = ols_fit.pvalues\n",
    "significant_variables = p_values[p_values <= 0.05].index\n",
    "# train and test with only significant variables\n",
    "X_train_significant = X_train_for_ols[significant_variables]\n",
    "X_train_significant = sm.add_constant(X_train_significant)\n",
    "X_test_significant = X_test_for_ols[significant_variables]\n",
    "X_test_significant = sm.add_constant(X_test_significant)\n",
    "# ols\n",
    "ols_significant = sm.OLS(y_train, X_train_significant)\n",
    "ols_fit_significant = ols_significant.fit()\n",
    "ols_fit_significant.summary()"
   ]
  },
  {
   "cell_type": "code",
   "execution_count": null,
   "id": "fd3a6cfd",
   "metadata": {},
   "outputs": [],
   "source": [
    "# ols_fit_significant.mse_resid\n",
    "mean_squared_error(y_train, ols_fit_significant.predict(X_train_significant)), mean_squared_error(y_test, ols_fit_significant.predict(X_test_significant))"
   ]
  },
  {
   "cell_type": "code",
   "execution_count": null,
   "id": "7e06677b",
   "metadata": {},
   "outputs": [],
   "source": [
    "# training errors\n",
    "(y_train - ols_fit.predict(X_train_for_ols)).hist(bins=100)"
   ]
  },
  {
   "cell_type": "code",
   "execution_count": null,
   "id": "aa1fcc15",
   "metadata": {},
   "outputs": [],
   "source": [
    "# test errors\n",
    "(y_test - ols_fit.predict(X_test_for_ols)).hist(bins=100)"
   ]
  },
  {
   "cell_type": "code",
   "execution_count": null,
   "id": "c1976db4",
   "metadata": {},
   "outputs": [],
   "source": [
    "# (test[\"Media FantaVoto (t+1)\"] - ols_test_pred)[(test[\"Media FantaVoto (t+1)\"] - ols_test_pred) > 2] # index 87\n",
    "# test.loc[87]\n",
    "# # withQuotes_20plus_noGK[(withQuotes_20plus_noGK.Ruolo == \"A\") & (withQuotes_20plus_noGK[\"Media FantaVoto\"] == 6.69) & (withQuotes_20plus_noGK[\"Ammonizioni\"] == 7)]\n",
    "# test[\"Media FantaVoto (t+1)\"].sort_values(ascending = False)\n",
    "# A very high error is made on Mertens (underestimated by 2.6) so i am gonna check how does the error change with higher Media FantaVoto (t+1)\n",
    "plt.scatter(x = y_test, y = (y_test - ols_fit.predict(X_test_for_ols)))"
   ]
  },
  {
   "cell_type": "markdown",
   "id": "79719983",
   "metadata": {},
   "source": [
    "XGBoost"
   ]
  },
  {
   "cell_type": "code",
   "execution_count": null,
   "id": "5c90ecfe",
   "metadata": {},
   "outputs": [],
   "source": [
    "# xgb_model = xgb.XGBRegressor(n_estimators=1000000, eta=0.01, colsample_bytree=np.sqrt(len(X_train.columns))/len(X_train.columns))\n",
    "# xgb_fit = xgb_model.fit(X_train, y_train)\n",
    "# xgb_fit.save_model(r\"C:\\Users\\leoac\\OneDrive - Università degli Studi di Milano\\Data science\\Football\\Fantacalcio\\xgb1.model\")"
   ]
  },
  {
   "cell_type": "code",
   "execution_count": null,
   "id": "6ba74ce2",
   "metadata": {},
   "outputs": [],
   "source": [
    "xgb_fit = xgb.Booster()\n",
    "xgb_fit.load_model(r\"C:\\Users\\leoac\\OneDrive - Università degli Studi di Milano\\Data science\\Football\\Fantacalcio\\xgb.model\") # big model"
   ]
  },
  {
   "cell_type": "code",
   "execution_count": null,
   "id": "9098d6b3",
   "metadata": {},
   "outputs": [],
   "source": [
    "X_train, X_test, y_train, y_test = train_test_split(prediction_df.loc[:, ~prediction_df.columns.isin([\"Media FantaVoto (t+1)\"])], prediction_df[\"Media FantaVoto (t+1)\"], test_size=0.3, random_state=0)"
   ]
  },
  {
   "cell_type": "code",
   "execution_count": null,
   "id": "04c31207",
   "metadata": {},
   "outputs": [],
   "source": [
    "dtrain = xgb.DMatrix(X_train, label=y_train)\n",
    "dtest = xgb.DMatrix(X_test)\n",
    "xgb_pred = xgb_fit.predict(dtest)\n",
    "mean_squared_error(y_train, xgb_fit.predict(dtrain)), mean_squared_error(y_test, xgb_pred) # 0.2027"
   ]
  },
  {
   "cell_type": "code",
   "execution_count": null,
   "id": "4d22b59e",
   "metadata": {},
   "outputs": [],
   "source": [
    "# too long to compute \n",
    "# scores = cross_val_score(xgb_model, prediction_df.loc[:, ~prediction_df.columns.isin([\"Media FantaVoto (t+1)\"])], prediction_df[\"Media FantaVoto (t+1)\"], cv=5, scoring='neg_mean_squared_error') # 0.22\n",
    "# scores = cross_val_score(xgb_model, X_train, y_train, cv=5, scoring='neg_mean_squared_error') # 0.235\n",
    "# mean_mse = -np.mean(scores)\n",
    "# mean_mse"
   ]
  },
  {
   "cell_type": "code",
   "execution_count": null,
   "id": "10463f30",
   "metadata": {},
   "outputs": [],
   "source": [
    "plt.scatter(x = y_test, y = (y_test - xgb_pred), s= 10)\n",
    "plt.plot((5.5,9.5),(0.5,0.5), c = \"green\")\n",
    "plt.plot((5.5,9.5),(-0.5,-0.5), c = \"green\")\n",
    "rectangle = patches.Rectangle((5.5,(0.5)), 4, -1, edgecolor='green', facecolor='green', alpha = 0.12)\n",
    "plt.gca().add_patch(rectangle)\n",
    "plt.gca().set_xlabel('Media FantaVoto (t+1)')\n",
    "plt.gca().set_ylabel('Errore del modello')\n",
    "plt.gca().set_title('Correlazione FantaVoto-Errore');\n",
    "\n",
    "# Circa 20 di 310 vengono sbagliati per più di mezzo punto"
   ]
  },
  {
   "cell_type": "markdown",
   "id": "9a5789be",
   "metadata": {},
   "source": [
    "Tree"
   ]
  },
  {
   "cell_type": "code",
   "execution_count": null,
   "id": "b5b10ec3",
   "metadata": {},
   "outputs": [],
   "source": [
    "tree = DecisionTreeRegressor(random_state=42)\n",
    "tree = tree.fit(X_train, y_train)\n",
    "tree_pred = tree.predict(X_test)\n",
    "mean_squared_error(y_test, tree_pred)"
   ]
  },
  {
   "cell_type": "code",
   "execution_count": null,
   "id": "ecee2fe0",
   "metadata": {},
   "outputs": [],
   "source": [
    "plt.scatter(x = y_test, y = (y_test - tree_pred))"
   ]
  },
  {
   "cell_type": "markdown",
   "id": "44adffa1",
   "metadata": {},
   "source": [
    "# Prediction for 2023/24\n",
    "#### Dataframe"
   ]
  },
  {
   "cell_type": "code",
   "execution_count": null,
   "id": "7a04fdde",
   "metadata": {},
   "outputs": [],
   "source": [
    "# Remove goalkeepers\n",
    "withQuotes_noGK = withQuotes[withQuotes[\"Ruolo\"] != \"P\"]\n",
    "\n",
    "# Create 2023 df\n",
    "df_2023 = withQuotes_noGK[withQuotes_noGK.Anno == datetime(2023,1,1)] # 475 players\n",
    "\n",
    "# Create new quotes df\n",
    "newQuotes_path = r\"C:\\Users\\leoac\\OneDrive - Università degli Studi di Milano\\Data science\\Football\\Fantacalcio\\Dati Fantacalcio.it\\Nuove quote\\Quotazioni_Fantacalcio_Stagione_2023_24.xlsx\"\n",
    "newQuotes = pd.read_excel(newQuotes_path, skiprows=1)\n",
    "newQuotes[\"Anno\"] = datetime.strptime(\"20\" + re.findall(\"[0-9]+\", (pd.read_excel(newQuotes_path, nrows=1).columns[0]))[1], \"%Y\")\n",
    "newQuotes.columns = ['Id', 'Ruolo', 'RM', 'Nome', 'Squadra', 'Quota attuale ', 'Quota iniziale', 'Differenza', 'Qt.A M',\n",
    "        'Qt.I M', 'Diff.M', 'FVM', 'FVM M', 'Anno'] # change names of the variables of interest\n",
    "newQuotes.drop(['RM','Qt.A M', 'Qt.I M', 'Diff.M', 'FVM', 'FVM M'], inplace=True, axis=1) # drop useless columns\n",
    "newQuotes.rename(columns={\"Quota iniziale\": \"Quota iniziale (t+1)\"}, inplace=True)\n",
    "newQuotes = newQuotes[[\"Id\", \"Quota iniziale (t+1)\"]] # keep only the Id for the merge and the Quota iniziale (t+1)\n",
    "################# 508 players\n",
    "\n",
    "# Merge 2023 df and new quotes\n",
    "new_prediction_df = pd.merge(df_2023, newQuotes, how = \"inner\", on = \"Id\")\n",
    "roles = new_prediction_df.Ruolo\n",
    "names = new_prediction_df.Nome\n",
    "################# 336 players\n",
    "\n",
    "# keep only the needed columns for predictions (numerical ones and Ruolo)\n",
    "new_prediction_df = new_prediction_df[['Ruolo', 'Media FantaVoto', 'FantaVoto/Quota iniziale', 'Gol fatti', 'Rigori calciati','Rigori segnati', 'Rigori sbagliati', 'Assist', 'Ammonizioni','Espulsioni', 'Autogol', 'Partite a voto', 'Quota attuale','Differenza tra quote', 'Quota iniziale (t+1)']]\n",
    "### clustering_df is created keeping only the pitch-performance metrics\n",
    "clustering_df = new_prediction_df[['Gol fatti', 'Rigori calciati','Rigori segnati', 'Rigori sbagliati', 'Assist', 'Ammonizioni','Espulsioni', 'Autogol', 'Partite a voto']]\n",
    "\n",
    "### one-hot encoding for Ruolo\n",
    "dummies = pd.get_dummies(new_prediction_df.Ruolo).iloc[:,0:2] # dummies for Attaccante and Centrocampista to avoid dummy trap\n",
    "new_prediction_df.drop(\"Ruolo\", axis=1, inplace=True)\n",
    "new_prediction_df = pd.concat([dummies, new_prediction_df], axis=1)\n",
    "\n",
    "### cast as float\n",
    "new_prediction_df = new_prediction_df.astype('float64')\n",
    "\n",
    "## feature augmentation\n",
    "poly = PolynomialFeatures(degree=2, interaction_only=False, include_bias=False) # initiate polinomial transformer\n",
    "X = new_prediction_df.loc[:, ~new_prediction_df.columns.isin([\"Media FantaVoto (t+1)\"])]\n",
    "X_quad = poly.fit_transform(X) # create all the quadratic interactions\n",
    "new_prediction_df = pd.DataFrame(X_quad, columns=poly.get_feature_names_out(input_features=X.columns)) # Create a new DataFrame with the quadratic interaction features\n",
    "new_prediction_df"
   ]
  },
  {
   "cell_type": "markdown",
   "id": "87c1c52d",
   "metadata": {},
   "source": [
    "#### Prediction"
   ]
  },
  {
   "cell_type": "code",
   "execution_count": null,
   "id": "5138a579",
   "metadata": {},
   "outputs": [],
   "source": [
    "dnew = xgb.DMatrix(new_prediction_df)\n",
    "new_pred_values = xgb_fit.predict(dnew)\n",
    "plt.hist(new_pred_values)\n",
    "new_pred_names = pd.concat([names, pd.Series(new_pred_values, name='Media FantaVoto 23/24 (previsione)'), new_prediction_df[\"Quota iniziale (t+1)\"]], axis=1)\n",
    "new_pred_names.rename(columns={\"Quota iniziale (t+1)\": \"Quota\"}, inplace=True)\n",
    "new_pred_names[\"Rapporto FantaVoto/Quota\"] = new_pred_names['Media FantaVoto 23/24 (previsione)']/new_pred_names[\"Quota\"]\n",
    "new_pred_names = pd.concat((new_pred_names, roles), axis=1)\n",
    "new_pred_names"
   ]
  },
  {
   "cell_type": "code",
   "execution_count": null,
   "id": "477e4ad6",
   "metadata": {},
   "outputs": [],
   "source": [
    "new_pred_names.sort_values('Media FantaVoto 23/24 (previsione)', ascending=False).head(20)\n",
    "# new_pred_names.to_csv(r\"C:\\Users\\leoac\\OneDrive - Università degli Studi di Milano\\Data science\\Football\\Fantacalcio\\Previsioni 23-24.csv\")"
   ]
  },
  {
   "cell_type": "markdown",
   "id": "92b86f82",
   "metadata": {},
   "source": [
    "# CLUSTERING"
   ]
  },
  {
   "cell_type": "code",
   "execution_count": null,
   "id": "f5317175",
   "metadata": {},
   "outputs": [],
   "source": [
    "# Standardize the data\n",
    "scaler = StandardScaler()\n",
    "data_scaled = scaler.fit_transform(clustering_df)"
   ]
  },
  {
   "cell_type": "code",
   "execution_count": null,
   "id": "f11c8a10",
   "metadata": {},
   "outputs": [],
   "source": [
    "# K means\n",
    "k_values = range(2, 11)\n",
    "silhouette_scores = []\n",
    "for k in k_values:\n",
    "    kmeans = KMeans(n_clusters=k, random_state=42)\n",
    "    cluster_labels = kmeans.fit_predict(data_scaled)\n",
    "    silhouette_scores.append(silhouette_score(data_scaled, cluster_labels))\n",
    "best_k = k_values[np.argmax(silhouette_scores)]\n",
    "\n",
    "plt.plot(k_values, silhouette_scores, marker='o')\n",
    "plt.xlabel('Number of Clusters (K)')\n",
    "plt.ylabel('Silhouette Score')\n",
    "plt.title('Silhouette Score for Different K Values')\n",
    "plt.show()"
   ]
  },
  {
   "cell_type": "code",
   "execution_count": null,
   "metadata": {},
   "outputs": [],
   "source": [
    "# Perform PCA\n",
    "pca = PCA(n_components=2)\n",
    "pca_result = pca.fit_transform(data_scaled)"
   ]
  },
  {
   "cell_type": "code",
   "execution_count": null,
   "id": "14e0da16",
   "metadata": {},
   "outputs": [],
   "source": [
    "# Get the explained variance ratios\n",
    "explained_variance = pca.explained_variance_ratio_\n",
    "\n",
    "# Create the biplot\n",
    "fig, ax = plt.subplots(figsize=(8, 6), dpi=100)\n",
    "# ax.scatter(pca_result[:, 0], pca_result[:, 1], alpha=0.5)\n",
    "\n",
    "# Add variable loadings\n",
    "for i in range(clustering_df.shape[1]): # for each variable index\n",
    "    ax.arrow(0, 0, pca.components_[0][i], pca.components_[1][i], head_width=0.01, head_length=0.01, linewidth=0.5, color='red')\n",
    "    ax.text(pca.components_[0][i] + 0.03, pca.components_[1][i] + 0.03, clustering_df.columns[i], color='black', ha='center', va='center')\n",
    "\n",
    "# Set plot title and labels\n",
    "ax.set_title('PCA loadings plot')\n",
    "ax.set_xlabel('PC1 ({:.2%})'.format(explained_variance[0]))\n",
    "ax.set_ylabel('PC2 ({:.2%})'.format(explained_variance[1]))\n",
    "\n",
    "# Show the plot\n",
    "plt.show()"
   ]
  },
  {
   "cell_type": "code",
   "execution_count": null,
   "id": "c81a990f",
   "metadata": {},
   "outputs": [],
   "source": [
    "# K means over PCA results\n",
    "k_values = range(2, 11)\n",
    "silhouette_scores = []\n",
    "for k in k_values:\n",
    "    kmeans = KMeans(n_clusters=k, random_state=42)\n",
    "    cluster_labels = kmeans.fit_predict(data_scaled)\n",
    "    silhouette_scores.append(silhouette_score(pca_result, cluster_labels))\n",
    "best_k = k_values[np.argmax(silhouette_scores)]\n",
    "\n",
    "## plot silhouette score\n",
    "plt.plot(k_values, silhouette_scores, marker='o')\n",
    "plt.xlabel('Number of Clusters (K)')\n",
    "plt.ylabel('Silhouette Score')\n",
    "plt.title('Silhouette Score for Different K Values')\n",
    "plt.show()"
   ]
  },
  {
   "cell_type": "code",
   "execution_count": null,
   "id": "fb754fcd",
   "metadata": {},
   "outputs": [],
   "source": [
    "# Perform K-means clustering with the best K value\n",
    "kmeans = KMeans(n_clusters=2, random_state=42)\n",
    "cluster_labels = kmeans.fit_predict(pca_result)\n",
    "\n",
    "# Create the biplot with colored clusters\n",
    "fig, ax = plt.subplots(figsize=(10, 7), dpi=120)\n",
    "for i in range(2):\n",
    "    ax.scatter(pca_result[cluster_labels == i, 0], pca_result[cluster_labels == i, 1], label=f'Cluster {i}')\n",
    "\n",
    "# Add text labels for each data point\n",
    "for i, label in enumerate(new_pred_names.Nome):\n",
    "    ax.text(pca_result[i, 0] + 0.05, pca_result[i, 1] + 0.05, s=label)\n",
    "ax.legend()\n",
    "\n",
    "# Add variable loadings (same as before)\n",
    "# left empty because it messed the plot\n",
    "\n",
    "# Set plot title and labels\n",
    "ax.set_title('PCA results with Clusters')\n",
    "ax.set_xlabel('PC1 ({:.2%})'.format(explained_variance[0]))\n",
    "ax.set_ylabel('PC2 ({:.2%})'.format(explained_variance[1]))\n",
    "\n",
    "# Show the plot\n",
    "plt.show()"
   ]
  },
  {
   "cell_type": "code",
   "execution_count": null,
   "id": "4114c720",
   "metadata": {},
   "outputs": [],
   "source": [
    "new_pred_names = pd.concat((new_pred_names, pd.Series(cluster_labels, name=\"Cluster\")), axis=1) # execute this line only once\n",
    "new_pred_names.Cluster = new_pred_names.Cluster.map({1: \"Malus taker\", 0: \"Bonus taker\"})\n",
    "new_pred_names"
   ]
  },
  {
   "cell_type": "code",
   "execution_count": null,
   "id": "5e51415a",
   "metadata": {},
   "outputs": [],
   "source": [
    "new_pred_names.groupby(\"Cluster\").mean()"
   ]
  },
  {
   "cell_type": "code",
   "execution_count": null,
   "id": "a0d6c105",
   "metadata": {},
   "outputs": [],
   "source": [
    "new_pred_names[(new_pred_names.Ruolo == \"C\") & (new_pred_names.Cluster == \"Bonus taker\")]"
   ]
  },
  {
   "cell_type": "markdown",
   "id": "ce3be609",
   "metadata": {},
   "source": [
    "# Graphical analysis"
   ]
  },
  {
   "cell_type": "code",
   "execution_count": null,
   "id": "8c4d2c7a",
   "metadata": {},
   "outputs": [],
   "source": [
    "# Create variables user selection\n",
    "nome1 = st.selectbox(\"Giocatore 1\", new_pred_names.Nome.unique()) #(use only the names of players for 2023/24)\n",
    "nome2 = st.selectbox(\"Giocatore 2\", new_pred_names.Nome.unique()) #(use only the names of players for 2023/24)\n",
    "metrica = st.selectbox(\"Metrica\", withQuotes.columns[4:withQuotes.shape[1]-2]) # from Media voto to Quota attuale (left out Differenza tra quote)\n",
    "\n",
    "# Mini timeseries\n",
    "player1 = withQuotes[withQuotes.Nome == nome1][[\"Anno\", metrica]]\n",
    "player2 = withQuotes[withQuotes.Nome == nome2][[\"Anno\", metrica]]\n",
    "\n",
    "# Merged df of both players metrics\n",
    "years = sorted(set(player1['Anno']) | set(player2['Anno'])) # Determine the unique years from both dataframes\n",
    "merged = pd.DataFrame({'Anno': years}) # Create a new dataframe with the unique years\n",
    "merged = merged.merge(player1, on='Anno', how='left') # Merge player1 data\n",
    "merged = merged.merge(player2, on='Anno', how='left') # Merge player2 data\n",
    "merged.columns = ['Anno', nome1, nome2] # Rename the columns\n",
    "\n",
    "# Set \"Anno\" as index\n",
    "merged = merged.set_index('Anno')\n",
    "\n",
    "# Plot\n",
    "## Create a figure and axes\n",
    "fig, ax = plt.subplots()\n",
    "ax.plot(merged.index, merged[nome1], label=nome1, marker = '.')\n",
    "ax.plot(merged.index, merged[nome2], label=nome2, marker = '.')\n",
    "date_form = mdates.DateFormatter(\"%Y\") # Set x-axis tick formatter to display only the year\n",
    "ax.xaxis.set_major_formatter(date_form)\n",
    "ax.set_xlabel('Year')\n",
    "ax.set_ylabel('Value')\n",
    "#ax.set_ylim(bottom=min(withQuotes[metrica]), top=max(withQuotes[metrica]))\n",
    "\n",
    "ax.legend()\n",
    "fig.tight_layout()\n",
    "## Display the chart using Streamlit\n",
    "st.pyplot(fig)"
   ]
  }
 ],
 "metadata": {
  "kernelspec": {
   "display_name": "Python 3",
   "language": "python",
   "name": "python3"
  },
  "language_info": {
   "codemirror_mode": {
    "name": "ipython",
    "version": 3
   },
   "file_extension": ".py",
   "mimetype": "text/x-python",
   "name": "python",
   "nbconvert_exporter": "python",
   "pygments_lexer": "ipython3",
   "version": "3.9.6"
  }
 },
 "nbformat": 4,
 "nbformat_minor": 5
}
